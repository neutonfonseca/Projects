{
 "cells": [
  {
   "cell_type": "code",
   "execution_count": 10,
   "metadata": {
    "collapsed": true
   },
   "outputs": [],
   "source": [
    "#Importing all the packages that will be used\n",
    "import numpy as np \n",
    "import pandas as pd \n",
    "%matplotlib inline\n",
    "import matplotlib.pyplot as plt  # Matlab-style plotting\n",
    "import seaborn as sns\n",
    "color = sns.color_palette()\n",
    "from scipy import stats\n",
    "from scipy.stats import norm, skew #for some statistics\n",
    "import math\n",
    "pd.set_option('display.max_rows', 3000)\n",
    "import matplotlib.pylab as plt\n",
    "%matplotlib inline\n",
    "from matplotlib.pylab import rcParams\n",
    "rcParams['figure.figsize'] = 12, 4\n",
    "import math\n",
    "from sklearn.ensemble import RandomForestRegressor,  GradientBoostingRegressor\n",
    "from sklearn.preprocessing import RobustScaler\n",
    "from sklearn.base import BaseEstimator, TransformerMixin, RegressorMixin, clone\n",
    "from sklearn.model_selection import KFold, cross_val_score, train_test_split\n",
    "from sklearn.metrics import mean_squared_error\n",
    "from sklearn.pipeline import Pipeline\n",
    "from sklearn.pipeline import make_pipeline\n",
    "from sklearn.linear_model import ElasticNet, Lasso,  BayesianRidge, LassoLarsIC\n",
    "from sklearn.preprocessing import RobustScaler"
   ]
  },
  {
   "cell_type": "code",
   "execution_count": 11,
   "metadata": {},
   "outputs": [
    {
     "data": {
      "text/plain": [
       "'/Users/neutonfonseca/Neuton/NYC Data Science Bootcamp/Machine Learning/PROJECT'"
      ]
     },
     "execution_count": 11,
     "metadata": {},
     "output_type": "execute_result"
    }
   ],
   "source": [
    "import os\n",
    "os.getcwd()"
   ]
  },
  {
   "cell_type": "code",
   "execution_count": 12,
   "metadata": {},
   "outputs": [],
   "source": [
    "os.chdir('/Users/neutonfonseca/Neuton/NYC Data Science Bootcamp/Machine Learning/PROJECT/')"
   ]
  },
  {
   "cell_type": "code",
   "execution_count": 13,
   "metadata": {},
   "outputs": [],
   "source": [
    "#Loading the data\n",
    "#You might need to change the address to where your file is\n",
    "train = pd.read_csv(\"train.csv\")\n",
    "test = pd.read_csv(\"test.csv\")"
   ]
  },
  {
   "cell_type": "code",
   "execution_count": 14,
   "metadata": {
    "collapsed": true
   },
   "outputs": [],
   "source": [
    "#Deleting outliers\n",
    "train = train.drop(train[(train['GrLivArea']>4000) & (train['SalePrice']<200000)].index)"
   ]
  },
  {
   "cell_type": "code",
   "execution_count": 15,
   "metadata": {
    "collapsed": true
   },
   "outputs": [],
   "source": [
    "#Save the 'Id' column to use in the final predict\n",
    "train_ID = train['Id']\n",
    "test_ID = test['Id']\n",
    "train.drop(\"Id\", axis = 1, inplace = True)\n",
    "test.drop(\"Id\", axis = 1, inplace = True)"
   ]
  },
  {
   "cell_type": "code",
   "execution_count": 16,
   "metadata": {
    "collapsed": true
   },
   "outputs": [],
   "source": [
    "#We use the numpy fuction log1p which applies log(1+x) to all elements of the column SalePrice\n",
    "train[\"SalePrice\"] = np.log1p(train[\"SalePrice\"])"
   ]
  },
  {
   "cell_type": "code",
   "execution_count": 17,
   "metadata": {},
   "outputs": [
    {
     "data": {
      "text/plain": [
       "(2917, 79)"
      ]
     },
     "execution_count": 17,
     "metadata": {},
     "output_type": "execute_result"
    }
   ],
   "source": [
    "#Joining training and test data so we can perform feature engineering on both\n",
    "ntrain = train.shape[0]\n",
    "ntest = test.shape[0] #use this for splitting up all_data later\n",
    "y_train = train.SalePrice.values\n",
    "all_data = pd.concat((train, test)).reset_index(drop=True)\n",
    "all_data.drop(['SalePrice'], axis=1, inplace=True)\n",
    "all_data.shape"
   ]
  },
  {
   "cell_type": "code",
   "execution_count": 18,
   "metadata": {
    "collapsed": true
   },
   "outputs": [],
   "source": [
    "#Implementing feature egineering\n",
    "all_data = all_data.drop(labels = 'PoolQC', axis = 1)\n",
    "all_data[\"Alley\"] = all_data[\"Alley\"].fillna(\"None\")\n",
    "all_data[\"Fence\"] = all_data[\"Fence\"].fillna(\"None\")\n",
    "all_data[\"FireplaceQu\"] = all_data[\"FireplaceQu\"].fillna(\"None\")\n",
    "all_data[\"LotFrontage\"] = all_data[\"LotFrontage\"].fillna(0)\n",
    "for col in ('GarageType', 'GarageFinish', 'GarageQual', 'GarageCond'):\n",
    "    all_data[col] = all_data[col].fillna('None')\n",
    "for col in ('GarageYrBlt','GarageArea', 'GarageCars'):\n",
    "    all_data[col] = all_data[col].fillna(0)\n",
    "for col in ('BsmtFinSF1', 'BsmtFinSF2', 'BsmtUnfSF','TotalBsmtSF', 'BsmtFullBath', 'BsmtHalfBath'):\n",
    "    all_data[col] = all_data[col].fillna(0)\n",
    "for col in ('BsmtQual', 'BsmtCond', 'BsmtExposure', 'BsmtFinType1', 'BsmtFinType2'):\n",
    "    all_data[col] = all_data[col].fillna('None')\n",
    "all_data[\"MasVnrType\"] = all_data[\"MasVnrType\"].fillna(\"None\")\n",
    "all_data[\"MasVnrArea\"] = all_data[\"MasVnrArea\"].fillna(0)\n",
    "all_data['MSZoning'] = all_data['MSZoning'].fillna(all_data['MSZoning'].mode()[0])\n",
    "all_data = all_data.drop(['Utilities'], axis=1)\n",
    "all_data[\"Functional\"] = all_data[\"Functional\"].fillna(\"Typ\")\n",
    "all_data['Electrical'] = all_data['Electrical'].fillna(all_data['Electrical'].mode()[0])\n",
    "all_data['KitchenQual'] = all_data['KitchenQual'].fillna(all_data['KitchenQual'].mode()[0])\n",
    "all_data['Exterior1st'] = all_data['Exterior1st'].fillna(all_data['Exterior1st'].mode()[0])\n",
    "all_data['Exterior2nd'] = all_data['Exterior2nd'].fillna(all_data['Exterior2nd'].mode()[0])\n",
    "all_data['SaleType'] = all_data['SaleType'].fillna(all_data['SaleType'].mode()[0])\n",
    "all_data['MSSubClass'] = all_data['MSSubClass'].fillna(\"None\")\n",
    "all_data['MSSubClass'] = all_data['MSSubClass'].apply(str)\n",
    "all_data['OverallCond'] = all_data['OverallCond'].astype(str)\n",
    "all_data['YrSold'] = all_data['YrSold'].astype(str)\n",
    "all_data['MoSold'] = all_data['MoSold'].astype(str)\n",
    "all_data['TotalSF'] = all_data['TotalBsmtSF'] + all_data['1stFlrSF'] + all_data['2ndFlrSF']\n",
    "all_data['GrLivArea2'] = (all_data['GrLivArea']**(1/2))\n",
    "all_data = all_data.drop('GrLivArea', axis = 1)\n",
    "all_data['HalfBath2'] = all_data['HalfBath']\n",
    "all_data.loc[all_data['HalfBath'] >= 1,'HalfBath2'] = .5\n",
    "all_data['Bathrooms'] = all_data['FullBath'] + all_data['HalfBath2']\n",
    "all_data = all_data.drop('FullBath', axis = 1)\n",
    "all_data = all_data.drop('HalfBath', axis = 1)\n",
    "all_data = all_data.drop('HalfBath2', axis = 1)\n",
    "all_data['LotArea2'] = np.log(all_data['LotArea']+1)\n",
    "all_data = all_data.drop('LotArea', axis = 1)\n",
    "all_data['LotFrontage'] = all_data['LotFrontage'].astype(int)\n",
    "all_data['LotFrontage2'] = (all_data['LotFrontage']**(1/2))\n",
    "all_data = all_data.drop('LotFrontage', axis = 1)\n",
    "all_data['ShedSF'] = 0\n",
    "all_data.loc[all_data['MiscFeature'] == 'Shed', 'ShedSF'] = all_data['MiscVal']\n",
    "all_data = all_data.drop('MiscFeature', axis = 1)\n",
    "all_data = all_data.drop('MiscVal', axis = 1)\n",
    "all_data = all_data.drop('TotalBsmtSF', axis = 1)\n",
    "all_data = all_data.drop('LowQualFinSF', axis = 1)\n",
    "all_data = all_data.drop('3SsnPorch', axis = 1)\n",
    "all_data = all_data.drop('Alley', axis = 1) #93% of the data is NA\n",
    "all_data = all_data.drop('BldgType', axis = 1) #Very unbalanced\n",
    "all_data = all_data.drop('Condition2', axis = 1) #99% of the data has Normal as answer\n",
    "all_data['HasFence'] = 0\n",
    "all_data.loc[all_data['Fence'] != 'NA','HasFence'] = 1\n",
    "all_data = all_data.drop('Fence', axis = 1)\n",
    "all_data = all_data.drop('GarageQual', axis = 1)\n",
    "all_data = all_data.drop('GarageYrBlt', axis = 1) #Does the garage built year matter? No. Might try creating ranges\n",
    "#HouseStyle and MSSubClass MAY CONTAIN THE SAME INFORMATION. WE SHOULD TEST DROPING ONE OF THEM.\n",
    "all_data = all_data.drop('MSSubClass', axis = 1)\n",
    "all_data = all_data.drop('MoSold', axis = 1) #There is no very significant difference between months,"
   ]
  },
  {
   "cell_type": "code",
   "execution_count": 19,
   "metadata": {},
   "outputs": [],
   "source": [
    "#Selecting columns to apply LabelEncoder\n",
    "from sklearn.preprocessing import LabelEncoder\n",
    "cols = ('GarageCond','FireplaceQu', 'BsmtQual', 'BsmtCond', \n",
    "        'ExterQual', 'ExterCond','HeatingQC',\n",
    "        'KitchenQual', 'Functional', 'BsmtFinType1', 'BsmtFinType2',\n",
    "        'BsmtExposure', 'GarageFinish', 'LandSlope',\n",
    "        'LotShape', 'PavedDrive', \n",
    "        'CentralAir', 'OverallCond', \n",
    "        'YrSold')\n",
    "#Process columns, apply LabelEncoder to categorical features\n",
    "for c in cols:\n",
    "    lbl = LabelEncoder() \n",
    "    lbl.fit(list(all_data[c].values)) \n",
    "    all_data[c] = lbl.transform(list(all_data[c].values))"
   ]
  },
  {
   "cell_type": "code",
   "execution_count": 20,
   "metadata": {
    "collapsed": true
   },
   "outputs": [],
   "source": [
    "###Use below code for SVR only\n",
    "\n",
    "#numeric_feats = all_data.dtypes[all_data.dtypes != \"object\"].index\n",
    "# Check the skew of all numerical features\n",
    "#skewed_feats = all_data[numeric_feats].apply(lambda x: skew(x.dropna())).sort_values(ascending=False)\n",
    "#print(\"\\nSkew in numerical features: \\n\")\n",
    "#skewness = pd.DataFrame({'Skew' :skewed_feats})\n",
    "#skewness.head(10)\n",
    "\n",
    "#skewness = skewness[abs(skewness) > 0.75]\n",
    "#print(\"There are {} skewed numerical features to Box Cox transform\".format(skewness.shape[0]))\n",
    "#from scipy.special import boxcox1p\n",
    "#skewed_features = skewness.index\n",
    "#lam = 0.15\n",
    "#for feat in skewed_features:\n",
    "#    all_data[feat] = boxcox1p(all_data[feat], lam)\n",
    "#    \n",
    "#all_data[skewed_features] = np.log1p(all_data[skewed_features])"
   ]
  },
  {
   "cell_type": "code",
   "execution_count": 21,
   "metadata": {},
   "outputs": [],
   "source": [
    "#Getting dummies for categorical features\n",
    "all_data = pd.get_dummies(all_data)"
   ]
  },
  {
   "cell_type": "code",
   "execution_count": 22,
   "metadata": {
    "collapsed": true
   },
   "outputs": [],
   "source": [
    "#Splitting the data into train and test\n",
    "train = all_data[:ntrain]\n",
    "test = all_data[ntrain:]"
   ]
  },
  {
   "cell_type": "code",
   "execution_count": 23,
   "metadata": {
    "collapsed": true
   },
   "outputs": [],
   "source": [
    "#Defining a function to calcule the RMSE\n",
    "n_folds = 5\n",
    "def rmsle_cv(model):\n",
    "    kf = KFold(n_folds, shuffle=True, random_state=42).get_n_splits(train.values)\n",
    "    rmse= np.sqrt(-cross_val_score(model, train.values, y_train, scoring=\"neg_mean_squared_error\", cv = kf))\n",
    "    return(rmse)"
   ]
  },
  {
   "cell_type": "code",
   "execution_count": 24,
   "metadata": {},
   "outputs": [
    {
     "name": "stdout",
     "output_type": "stream",
     "text": [
      "lasso score: 0.1090 (0.0060)\n",
      "\n"
     ]
    }
   ],
   "source": [
    "#Best score is without removing logs/skewness (alpha = .0005, score = .1090)\n",
    "import numpy as np\n",
    "from sklearn.pipeline import Pipeline\n",
    "from sklearn.preprocessing import StandardScaler\n",
    "from sklearn.svm import SVR\n",
    "from sklearn.cross_validation import cross_val_score\n",
    "lasso = make_pipeline(RobustScaler(), Lasso(alpha =0.0005, random_state=1))\n",
    "score = rmsle_cv(lasso)\n",
    "lasso.fit(train.values, y_train)\n",
    "print(\"lasso score: {:.4f} ({:.4f})\\n\".format(score.mean(), score.std()))"
   ]
  },
  {
   "cell_type": "code",
   "execution_count": 25,
   "metadata": {},
   "outputs": [
    {
     "name": "stdout",
     "output_type": "stream",
     "text": [
      "ElasticNet score: 0.1091 (0.0060)\n",
      "\n"
     ]
    }
   ],
   "source": [
    "#Best score is without removing logs/skewness (alpha = .0006, l1_ratio = .8, score = .1091)\n",
    "ENet = make_pipeline(RobustScaler(), ElasticNet(alpha=0.0006, l1_ratio=.8, random_state=3))\n",
    "score = rmsle_cv(ENet)\n",
    "ENet.fit(train.values, y_train)\n",
    "print(\"ElasticNet score: {:.4f} ({:.4f})\\n\".format(score.mean(), score.std()))"
   ]
  },
  {
   "cell_type": "code",
   "execution_count": 27,
   "metadata": {},
   "outputs": [
    {
     "data": {
      "text/plain": [
       "7     0.111044\n",
       "8     0.111023\n",
       "9     0.111023\n",
       "10    0.111039\n",
       "dtype: float64"
      ]
     },
     "execution_count": 27,
     "metadata": {},
     "output_type": "execute_result"
    },
    {
     "data": {
      "image/png": "[encoded data removed]",
      "text/plain": [
       "<matplotlib.figure.Figure at 0x107616d30>"
      ]
     },
     "metadata": {},
     "output_type": "display_data"
    }
   ],
   "source": [
    "#Testing the best alpha for ridge\n",
    "from sklearn.model_selection import cross_val_score, cross_val_predict\n",
    "from sklearn import linear_model\n",
    "\n",
    "def rmse_cv(model):\n",
    "    rmse= np.sqrt(-cross_val_score(model, train.values, y_train, scoring=\"neg_mean_squared_error\", cv = 5))\n",
    "    return(rmse)\n",
    "\n",
    "alphas = [4,5,6, 7, 8, 9, 10, 11, 12, 13, 14, 15, 16, 17, 18, 19, 20]\n",
    "cv_ridge = [rmse_cv(linear_model.Ridge(alpha = alpha)).mean() for alpha in alphas]\n",
    "\n",
    "cv_ridge = pd.Series(cv_ridge, index = alphas)\n",
    "cv_ridge.plot(title = \"Validation\")\n",
    "plt.xlabel(\"alpha\")\n",
    "plt.ylabel(\"rmse\")\n",
    "#alpha = 6 is the best option\n",
    "cv_ridge[3:7]"
   ]
  },
  {
   "cell_type": "code",
   "execution_count": 28,
   "metadata": {},
   "outputs": [
    {
     "name": "stdout",
     "output_type": "stream",
     "text": [
      "ridge score: 0.1109 (0.0058)\n",
      "\n"
     ]
    }
   ],
   "source": [
    "#best score is without removing logs/skewness (alpha = 8, score = .1109)\n",
    "from sklearn.model_selection import cross_val_score, cross_val_predict\n",
    "from sklearn import linear_model\n",
    "\n",
    "ridge = make_pipeline(RobustScaler(), linear_model.Ridge(alpha = 8, random_state=1))\n",
    "score = rmsle_cv(ridge)\n",
    "ridge.fit(train.values, y_train)\n",
    "print(\"ridge score: {:.4f} ({:.4f})\\n\".format(score.mean(), score.std()))"
   ]
  },
  {
   "cell_type": "code",
   "execution_count": 29,
   "metadata": {},
   "outputs": [
    {
     "name": "stdout",
     "output_type": "stream",
     "text": [
      "Fitting 3 folds for each of 16 candidates, totalling 48 fits\n"
     ]
    },
    {
     "name": "stderr",
     "output_type": "stream",
     "text": [
      "[Parallel(n_jobs=1)]: Done  48 out of  48 | elapsed:   18.2s finished\n"
     ]
    },
    {
     "data": {
      "text/plain": [
       "{'C': 10, 'epsilon': 1e-07, 'gamma': 1e-07, 'kernel': 'rbf'}"
      ]
     },
     "execution_count": 29,
     "metadata": {},
     "output_type": "execute_result"
    }
   ],
   "source": [
    "#Using GridSearchCV to find the best parameters for SVR\n",
    "from sklearn import svm\n",
    "from sklearn.model_selection import GridSearchCV\n",
    "from sklearn.feature_selection import SelectKBest\n",
    "parameters = {'kernel':['rbf'], 'C':[1,10,50,100], 'gamma':[1e-7, .1],'epsilon':[0.0000001,0.2]}\n",
    "svc1 = svm.SVR()\n",
    "clf1 = GridSearchCV(svc1, parameters, verbose = 1)\n",
    "clf1.fit(train.values, y_train)\n",
    "clf1.best_params_"
   ]
  },
  {
   "cell_type": "code",
   "execution_count": 30,
   "metadata": {},
   "outputs": [
    {
     "name": "stdout",
     "output_type": "stream",
     "text": [
      "SVR score: 0.3955 (0.0168)\n",
      "\n"
     ]
    }
   ],
   "source": [
    "#Running SVR\n",
    "import numpy as np\n",
    "from sklearn.pipeline import Pipeline\n",
    "from sklearn.preprocessing import StandardScaler\n",
    "from sklearn.svm import SVR\n",
    "from sklearn.cross_validation import cross_val_score\n",
    "SVR = make_pipeline(SVR(kernel = 'rbf', C = 100, gamma = 0.001, epsilon = 0.0001))\n",
    "score = rmsle_cv(SVR)\n",
    "SVR.fit(train.values, y_train)\n",
    "print(\"SVR score: {:.4f} ({:.4f})\\n\".format(score.mean(), score.std()))"
   ]
  },
  {
   "cell_type": "code",
   "execution_count": 31,
   "metadata": {
    "collapsed": true
   },
   "outputs": [],
   "source": [
    "#Predicting the SalePrice and creating the csv file for submission using Lasso\n",
    "lasso_pred_train = np.expm1(lasso.predict(train.values))\n",
    "lasso_pred_test = np.expm1(lasso.predict(test.values))\n",
    "lasso_pred_test = pd.DataFrame({'Id': test_ID, 'SalePrice': lasso_pred_test})\n",
    "lasso_pred_test.to_csv('Lasso_submission.csv', index = False)"
   ]
  },
  {
   "cell_type": "code",
   "execution_count": 32,
   "metadata": {
    "collapsed": true
   },
   "outputs": [],
   "source": [
    "#Predicting the SalePrice and creating the csv file for submission using Ridge\n",
    "ridge_pred_train = np.expm1(ridge.predict(train.values))\n",
    "ridge_pred_test = np.expm1(ridge.predict(test.values))\n",
    "ridge_pred_test = pd.DataFrame({'Id': test_ID, 'SalePrice': ridge_pred_test})\n",
    "ridge_pred_test.to_csv('Ridge_submission.csv', index = False)"
   ]
  },
  {
   "cell_type": "code",
   "execution_count": 33,
   "metadata": {
    "collapsed": true
   },
   "outputs": [],
   "source": [
    "#Predicting the SalePrice and creating the csv file for submission using ElasticNet\n",
    "ENet_pred_train = np.expm1(ENet.predict(train.values))\n",
    "ENet_pred_test = np.expm1(ENet.predict(test.values))\n",
    "ENet_pred_test = pd.DataFrame({'Id': test_ID, 'SalePrice': ENet_pred_test})\n",
    "ENet_pred_test.to_csv('ENet_submission.csv', index = False)"
   ]
  },
  {
   "cell_type": "code",
   "execution_count": 34,
   "metadata": {
    "collapsed": true
   },
   "outputs": [],
   "source": [
    "#Predicting the SalePrice and creating the csv file for submission using SVR\n",
    "svr_pred_train = np.expm1(SVR.predict(train.values))\n",
    "svr_pred_test = np.expm1(SVR.predict(test.values))\n",
    "SVRSubmission = pd.DataFrame({ 'Id': test_ID, 'SalePrice': svr_pred_test})\n",
    "SVRSubmission.to_csv(\"SVRSubmission_test.csv\", index=False)"
   ]
  }
 ],
 "metadata": {
  "kernelspec": {
   "display_name": "Python 3",
   "language": "python",
   "name": "python3"
  },
  "language_info": {
   "codemirror_mode": {
    "name": "ipython",
    "version": 3
   },
   "file_extension": ".py",
   "mimetype": "text/x-python",
   "name": "python",
   "nbconvert_exporter": "python",
   "pygments_lexer": "ipython3",
   "version": "3.5.4"
  }
 },
 "nbformat": 4,
 "nbformat_minor": 2
}
